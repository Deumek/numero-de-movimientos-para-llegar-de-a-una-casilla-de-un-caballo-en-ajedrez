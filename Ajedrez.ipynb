{
 "cells": [
  {
   "cell_type": "code",
   "execution_count": 12,
   "metadata": {},
   "outputs": [],
   "source": [
    "from queue import SimpleQueue"
   ]
  },
  {
   "cell_type": "code",
   "execution_count": 13,
   "metadata": {},
   "outputs": [],
   "source": [
    "pos = (1, 1)"
   ]
  },
  {
   "cell_type": "code",
   "execution_count": 14,
   "metadata": {},
   "outputs": [],
   "source": [
    "vertexQueue = SimpleQueue()\n",
    "vertexQueue.put(pos)\n",
    "                                    #    - - - 0 1 2 3\n",
    "                                    #  3 * * * * * * *\n",
    "horseMoves = ((2, -1), (2, 1),      #  2 * * X * X * *\n",
    "              (-2, -1), (-2, 1),    #  1 * X * * * X *\n",
    "              (1, 2), (-1, 2),      #  0 * * * H * * *\n",
    "              (1, -2), (-1, -2))    # -1 * X * * * X *\n",
    "                                    # -2 * * X * X * *\n",
    "                                    # -3 * * * * * * *\n",
    "gridData = {pos : [None, 0]} # read, parent, l"
   ]
  },
  {
   "cell_type": "code",
   "execution_count": 18,
   "metadata": {},
   "outputs": [
    {
     "data": {
      "text/plain": [
       "{(1, 1): [None, 0],\n",
       " (3, 0): [(1, 1), 1],\n",
       " (3, 2): [(1, 1), 1],\n",
       " (2, 3): [(1, 1), 1],\n",
       " (0, 3): [(1, 1), 1],\n",
       " (5, 1): [(3, 0), 2],\n",
       " (4, 2): [(3, 0), 2],\n",
       " (2, 2): [(3, 0), 2],\n",
       " (5, 3): [(3, 2), 2],\n",
       " (1, 3): [(3, 2), 2],\n",
       " (4, 4): [(3, 2), 2],\n",
       " (2, 4): [(3, 2), 2],\n",
       " (4, 0): [(3, 2), 2],\n",
       " (2, 0): [(3, 2), 2],\n",
       " (0, 2): [(2, 3), 2],\n",
       " (0, 4): [(2, 3), 2],\n",
       " (3, 5): [(2, 3), 2],\n",
       " (1, 5): [(2, 3), 2],\n",
       " (3, 1): [(2, 3), 2],\n",
       " (7, 0): [(5, 1), 3],\n",
       " (7, 2): [(5, 1), 3],\n",
       " (6, 3): [(5, 1), 3],\n",
       " (4, 3): [(5, 1), 3],\n",
       " (6, 1): [(4, 2), 3],\n",
       " (2, 1): [(4, 2), 3],\n",
       " (5, 4): [(4, 2), 3],\n",
       " (3, 4): [(4, 2), 3],\n",
       " (5, 0): [(4, 2), 3],\n",
       " (4, 1): [(2, 2), 3],\n",
       " (0, 1): [(2, 2), 3],\n",
       " (1, 4): [(2, 2), 3],\n",
       " (1, 0): [(2, 2), 3],\n",
       " (7, 4): [(5, 3), 3],\n",
       " (6, 5): [(5, 3), 3],\n",
       " (4, 5): [(5, 3), 3],\n",
       " (2, 5): [(1, 3), 3],\n",
       " (0, 5): [(1, 3), 3],\n",
       " (5, 6): [(4, 4), 3],\n",
       " (3, 6): [(4, 4), 3],\n",
       " (5, 2): [(4, 4), 3],\n",
       " (1, 6): [(2, 4), 3],\n",
       " (1, 2): [(2, 4), 3],\n",
       " (4, 7): [(3, 5), 3],\n",
       " (2, 7): [(3, 5), 3],\n",
       " (0, 7): [(1, 5), 3],\n",
       " (6, 2): [(7, 0), 4],\n",
       " (6, 4): [(7, 2), 4],\n",
       " (6, 0): [(7, 2), 4],\n",
       " (7, 5): [(6, 3), 4],\n",
       " (5, 5): [(6, 3), 4],\n",
       " (7, 1): [(6, 3), 4],\n",
       " (7, 3): [(6, 1), 4],\n",
       " (0, 0): [(2, 1), 4],\n",
       " (3, 3): [(2, 1), 4],\n",
       " (6, 6): [(5, 4), 4],\n",
       " (4, 6): [(5, 4), 4],\n",
       " (2, 6): [(3, 4), 4],\n",
       " (0, 6): [(1, 4), 4],\n",
       " (7, 7): [(6, 5), 4],\n",
       " (5, 7): [(6, 5), 4],\n",
       " (3, 7): [(4, 5), 4],\n",
       " (1, 7): [(2, 5), 4],\n",
       " (7, 6): [(6, 4), 5],\n",
       " (6, 7): [(7, 5), 5]}"
      ]
     },
     "execution_count": 18,
     "metadata": {},
     "output_type": "execute_result"
    }
   ],
   "source": [
    "while not vertexQueue.empty():\n",
    "    currentVertex = vertexQueue.get()\n",
    "    for i in horseMoves:\n",
    "        if(currentVertex[0]+i[0] >= 0 and currentVertex[1]+i[1] >= 0\n",
    "        and currentVertex[0]+i[0] < 8 and currentVertex[1]+i[1] < 8\n",
    "        and (currentVertex[0]+i[0], currentVertex[1]+i[1]) not in gridData):\n",
    "            gridData[(currentVertex[0]+i[0], currentVertex[1]+i[1])] = [currentVertex, gridData[currentVertex][1] + 1]\n",
    "            vertexQueue.put((currentVertex[0]+i[0], currentVertex[1]+i[1]))\n",
    "\n",
    "gridData"
   ]
  }
 ],
 "metadata": {
  "kernelspec": {
   "display_name": "VSCode",
   "language": "python",
   "name": "python3"
  },
  "language_info": {
   "codemirror_mode": {
    "name": "ipython",
    "version": 3
   },
   "file_extension": ".py",
   "mimetype": "text/x-python",
   "name": "python",
   "nbconvert_exporter": "python",
   "pygments_lexer": "ipython3",
   "version": "3.9.13"
  },
  "orig_nbformat": 4
 },
 "nbformat": 4,
 "nbformat_minor": 2
}
