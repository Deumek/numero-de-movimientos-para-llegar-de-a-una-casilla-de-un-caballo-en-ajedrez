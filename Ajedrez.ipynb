{
 "cells": [
  {
   "cell_type": "code",
   "execution_count": 120,
   "metadata": {},
   "outputs": [],
   "source": [
    "from queue import SimpleQueue"
   ]
  },
  {
   "cell_type": "code",
   "execution_count": 121,
   "metadata": {},
   "outputs": [],
   "source": [
    "pos = (3, 3)"
   ]
  },
  {
   "cell_type": "code",
   "execution_count": 122,
   "metadata": {},
   "outputs": [],
   "source": [
    "vertexQueue = SimpleQueue()\n",
    "vertexQueue.put(pos)\n",
    "                                    #    - - - 0 1 2 3\n",
    "                                    #  3 * * * * * * *\n",
    "horseMoves = ((2, -1), (2, 1),      #  2 * * X * X * *\n",
    "              (-2, -1), (-2, 1),    #  1 * X * * * X *\n",
    "              (1, 2), (-1, 2),      #  0 * * * H * * *\n",
    "              (1, -2), (-1, -2))    # -1 * X * * * X *\n",
    "                                    # -2 * * X * X * *\n",
    "                                    # -3 * * * * * * *\n",
    "gridData = {pos : [None, 0]} # read, parent, l"
   ]
  },
  {
   "cell_type": "code",
   "execution_count": 123,
   "metadata": {},
   "outputs": [
    {
     "data": {
      "text/plain": [
       "{(3, 3): [None, 0],\n",
       " (5, 2): [(3, 3), 1],\n",
       " (5, 4): [(3, 3), 1],\n",
       " (1, 2): [(3, 3), 1],\n",
       " (1, 4): [(3, 3), 1],\n",
       " (4, 5): [(3, 3), 1],\n",
       " (2, 5): [(3, 3), 1],\n",
       " (4, 1): [(3, 3), 1],\n",
       " (2, 1): [(3, 3), 1],\n",
       " (7, 1): [(5, 2), 2],\n",
       " (7, 3): [(5, 2), 2],\n",
       " (3, 1): [(5, 2), 2],\n",
       " (6, 4): [(5, 2), 2],\n",
       " (4, 4): [(5, 2), 2],\n",
       " (6, 0): [(5, 2), 2],\n",
       " (4, 0): [(5, 2), 2],\n",
       " (7, 5): [(5, 4), 2],\n",
       " (3, 5): [(5, 4), 2],\n",
       " (6, 6): [(5, 4), 2],\n",
       " (4, 6): [(5, 4), 2],\n",
       " (6, 2): [(5, 4), 2],\n",
       " (4, 2): [(5, 4), 2],\n",
       " (2, 4): [(1, 2), 2],\n",
       " (0, 4): [(1, 2), 2],\n",
       " (2, 0): [(1, 2), 2],\n",
       " (0, 0): [(1, 2), 2],\n",
       " (2, 6): [(1, 4), 2],\n",
       " (0, 6): [(1, 4), 2],\n",
       " (2, 2): [(1, 4), 2],\n",
       " (0, 2): [(1, 4), 2],\n",
       " (5, 7): [(4, 5), 2],\n",
       " (3, 7): [(4, 5), 2],\n",
       " (5, 3): [(4, 5), 2],\n",
       " (1, 7): [(2, 5), 2],\n",
       " (1, 3): [(2, 5), 2],\n",
       " (5, 0): [(7, 1), 3],\n",
       " (6, 3): [(7, 1), 3],\n",
       " (6, 5): [(7, 3), 3],\n",
       " (6, 1): [(7, 3), 3],\n",
       " (1, 0): [(3, 1), 3],\n",
       " (4, 3): [(3, 1), 3],\n",
       " (2, 3): [(3, 1), 3],\n",
       " (7, 6): [(6, 4), 3],\n",
       " (5, 6): [(6, 4), 3],\n",
       " (7, 2): [(6, 4), 3],\n",
       " (3, 6): [(4, 4), 3],\n",
       " (3, 2): [(4, 4), 3],\n",
       " (6, 7): [(7, 5), 3],\n",
       " (1, 6): [(3, 5), 3],\n",
       " (4, 7): [(3, 5), 3],\n",
       " (2, 7): [(3, 5), 3],\n",
       " (7, 4): [(6, 6), 3],\n",
       " (3, 4): [(4, 6), 3],\n",
       " (7, 0): [(6, 2), 3],\n",
       " (3, 0): [(4, 2), 3],\n",
       " (0, 3): [(2, 4), 3],\n",
       " (0, 5): [(2, 4), 3],\n",
       " (0, 1): [(2, 0), 3],\n",
       " (0, 7): [(2, 6), 3],\n",
       " (5, 5): [(6, 3), 4],\n",
       " (5, 1): [(6, 3), 4],\n",
       " (7, 7): [(6, 5), 4],\n",
       " (1, 5): [(2, 3), 4],\n",
       " (1, 1): [(2, 3), 4]}"
      ]
     },
     "execution_count": 123,
     "metadata": {},
     "output_type": "execute_result"
    }
   ],
   "source": [
    "while not vertexQueue.empty():\n",
    "    currentVertex = vertexQueue.get()\n",
    "    for i in horseMoves:\n",
    "        if(currentVertex[0]+i[0] >= 0 and currentVertex[1]+i[1] >= 0\n",
    "        and currentVertex[0]+i[0] < 8 and currentVertex[1]+i[1] < 8\n",
    "        and (currentVertex[0]+i[0], currentVertex[1]+i[1]) not in gridData):\n",
    "            gridData[(currentVertex[0]+i[0], currentVertex[1]+i[1])] = [currentVertex, gridData[currentVertex][1] + 1]\n",
    "            vertexQueue.put((currentVertex[0]+i[0], currentVertex[1]+i[1]))\n",
    "\n",
    "gridData"
   ]
  },
  {
   "cell_type": "code",
   "execution_count": 124,
   "metadata": {},
   "outputs": [
    {
     "data": {
      "text/plain": [
       "[(array([3]), array([3])),\n",
       " (array([5, 5, 1, 1, 4, 2, 4, 2]), array([2, 4, 2, 4, 5, 5, 1, 1])),\n",
       " (array([7, 7, 3, 6, 4, 6, 4, 7, 3, 6, 4, 6, 4, 2, 0, 2, 0, 2, 0, 2, 0, 5,\n",
       "         3, 5, 1, 1]),\n",
       "  array([1, 3, 1, 4, 4, 0, 0, 5, 5, 6, 6, 2, 2, 4, 4, 0, 0, 6, 6, 2, 2, 7,\n",
       "         7, 3, 7, 3])),\n",
       " (array([5, 6, 6, 6, 1, 4, 2, 7, 5, 7, 3, 3, 6, 1, 4, 2, 7, 3, 7, 3, 0, 0,\n",
       "         0, 0]),\n",
       "  array([0, 3, 5, 1, 0, 3, 3, 6, 6, 2, 6, 2, 7, 6, 7, 7, 4, 4, 0, 0, 3, 5,\n",
       "         1, 7])),\n",
       " (array([5, 5, 7, 1, 1]), array([5, 1, 7, 5, 1]))]"
      ]
     },
     "execution_count": 124,
     "metadata": {},
     "output_type": "execute_result"
    }
   ],
   "source": [
    "import numpy as np\n",
    "def getTreeLevels(treeData : dict):\n",
    "    depth = max(treeData.items(), key = lambda x : x[1][1])[1][1]\n",
    "    levels = []\n",
    "    for i in range(depth + 1):\n",
    "        x = []\n",
    "        y = []\n",
    "        for j in treeData.items():\n",
    "            if j[1][1] == i:\n",
    "                x.append(j[0][0])\n",
    "                y.append(j[0][1])\n",
    "        levels.append((np.array(x), np.array(y)))\n",
    "    return(levels)\n",
    "\n",
    "BFSlevels = getTreeLevels(gridData)\n",
    "BFSlevels"
   ]
  },
  {
   "cell_type": "code",
   "execution_count": 125,
   "metadata": {},
   "outputs": [],
   "source": [
    "def getHexFromGradientRgb(iColor,  eColor, gradient):\n",
    "    return \"#{:02x}{:02x}{:02x}\".format(int(iColor[0]*(1. - gradient) + eColor[0]*gradient), \n",
    "                                        int(iColor[1]*(1. - gradient) + eColor[1]*gradient),\n",
    "                                        int(iColor[2]*(1. - gradient) + eColor[2]*gradient))"
   ]
  },
  {
   "cell_type": "code",
   "execution_count": 126,
   "metadata": {},
   "outputs": [
    {
     "data": {
      "image/png": "[encoded data removed]",
      "text/plain": [
       "<Figure size 500x500 with 1 Axes>"
      ]
     },
     "metadata": {},
     "output_type": "display_data"
    }
   ],
   "source": [
    "import matplotlib.pyplot as plt\n",
    "fig=plt.figure(figsize=(5,5))\n",
    "ax=fig.add_axes([0,0,1,1])\n",
    "BFSDepth = len(BFSlevels)\n",
    "for i in range(BFSDepth):\n",
    "    ax.scatter(BFSlevels[i][0], BFSlevels[i][1], s = 1900, marker = ',',\n",
    "               color=getHexFromGradientRgb((255, 255, 102), (0, 0, 0), i/(BFSDepth-1.)))\n",
    "ax.set_xlabel('Grades Range')\n",
    "ax.set_ylabel('Grades Scored')\n",
    "ax.set_title('scatter plot')\n",
    "plt.show()"
   ]
  }
 ],
 "metadata": {
  "kernelspec": {
   "display_name": "VSCode",
   "language": "python",
   "name": "python3"
  },
  "language_info": {
   "codemirror_mode": {
    "name": "ipython",
    "version": 3
   },
   "file_extension": ".py",
   "mimetype": "text/x-python",
   "name": "python",
   "nbconvert_exporter": "python",
   "pygments_lexer": "ipython3",
   "version": "3.9.13"
  },
  "orig_nbformat": 4
 },
 "nbformat": 4,
 "nbformat_minor": 2
}
